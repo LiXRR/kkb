{
 "cells": [
  {
   "cell_type": "markdown",
   "id": "2d21e8d2",
   "metadata": {},
   "source": [
    "# KD_TREE Based"
   ]
  },
  {
   "cell_type": "code",
   "execution_count": 92,
   "id": "5e8cc03e",
   "metadata": {},
   "outputs": [],
   "source": [
    "import numpy as np\n",
    "import time\n",
    "import pandas as pd\n",
    "from sklearn.neighbors import NearestNeighbors\n",
    "from scipy.spatial.distance import cdist\n",
    "\n",
    "def calculate_I1_i(array,h):\n",
    "    s = time.time()\n",
    "    distances = cdist(array,array, metric='euclidean')**2\n",
    "    sum_i =  np.sum(np.exp(-distances/(4*h**2)))\n",
    "    \n",
    "    return sum_i,time.time()-s#对于一条数据，计算距离矩阵的时间\n",
    "\n",
    "def gaussian_kernel(array,h,d):\n",
    "    d1 = (np.sum(array**2,axis=1)/(2*h**2))\n",
    "\n",
    "    kernel_values = (1 / (np.sqrt(2 * np.pi) * h))**d * np.exp(-d1)\n",
    "    return np.sum(kernel_values)  \n",
    "    \n",
    "def calculate_I2_i(array,zi,h,d):\n",
    "\n",
    "    inside = (zi-array).reshape(-1,d)\n",
    "\n",
    "    return gaussian_kernel(inside,h,d)\n",
    "    \n",
    "\n",
    "\n",
    "def bootstrap_knn(data, row_index, s_ratio, k, B, missing_mask, complete_mask):\n",
    "\n",
    "    n, _ = data.shape\n",
    "    s = int(round((n-1)*s_ratio))\n",
    "    if s<k:\n",
    "        k = s\n",
    "        warnings.warn(\"s_complete < n_neighbors, replacing n_neighbors with s_complete\", UserWarning)\n",
    "    neighbors_data = np.zeros((B * k, len(missing_mask))) \n",
    "    query_point = data[row_index,complete_mask].reshape(1,-1)\n",
    "    start_time = time.time()\n",
    "    for i in range(B):\n",
    "        indices_1 = np.random.choice(np.delete(np.arange(n), row_index), size=s, replace=False)\n",
    "\n",
    "        subsample = data[indices_1][:,complete_mask].copy()\n",
    "        \n",
    "        nbrs = NearestNeighbors(n_neighbors=k, algorithm='auto').fit(subsample)\n",
    "        _, indices = nbrs.kneighbors(query_point)\n",
    "        \n",
    "        neighbor_indices = indices[0]\n",
    "\n",
    "        neighbors_data[i * k: (i + 1) * k] = data[indices_1][neighbor_indices][:,missing_mask]\n",
    "    x_time = time.time()-start_time#对于一条数据来说，找到B*k个neighbours花费的时间\n",
    "    return neighbors_data,x_time\n",
    "\n",
    "                \n",
    "def calculate_score_restricted_1(data, s_ratio, k, B,h, missing_mask, complete_mask):\n",
    "    n,d = data.shape\n",
    "    I1 = []\n",
    "    I2 = []\n",
    "    B_time = []\n",
    "    D_time=[]\n",
    "    s_time = []\n",
    "    if n >= 3000:\n",
    "        for i in np.random.choice(range(n),3000,replace  =False):\n",
    "            start_time = time.time()\n",
    "            X,b_time = bootstrap_knn(data,i, s_ratio, k, B, missing_mask, complete_mask)\n",
    "            B_time.append(b_time)\n",
    "            I1_1,d_time = calculate_I1_i(X,h)\n",
    "            D_time.append(d_time)\n",
    "            I1_i = (1/(2*h*np.pi**0.5))**len(missing_mask)*(1/(3000*B**2*k**2))*I1_1\n",
    "            I2_i = (1/(B*k*3000))*calculate_I2_i(X,data[i,missing_mask],h,len(missing_mask))\n",
    "            s_time.append(time.time()-start_time)\n",
    "            I1.append(I1_i)\n",
    "            I2.append(I2_i)\n",
    "    else:\n",
    "        for i in range(n):\n",
    "            start_time = time.time()\n",
    "            X,b_time = bootstrap_knn(data,i, s_ratio, k, B, missing_mask, complete_mask)\n",
    "            B_time.append(b_time)\n",
    "            I1_1,d_time = calculate_I1_i(X,h)\n",
    "            D_time.append(d_time)\n",
    "            I1_i = (1/(2*h*np.pi**0.5))**len(missing_mask)*(1/(3000*B**2*k**2))*I1_1\n",
    "            I2_i = (1/(B*k*3000))*calculate_I2_i(X,data[i,missing_mask],h,len(missing_mask))\n",
    "            s_time.append(time.time()-start_time)\n",
    "            I1.append(I1_i)\n",
    "            I2.append(I2_i)\n",
    "    print('I1',sum(I1),'I2',sum(I2))\n",
    "    return sum(I1)-2*sum(I2),B_time,D_time,s_time\n"
   ]
  },
  {
   "cell_type": "code",
   "execution_count": 68,
   "id": "421b61f4",
   "metadata": {},
   "outputs": [],
   "source": [
    "#generate data\n",
    "def normalization(data):\n",
    "    min_vals = np.min(data, axis=0)\n",
    "    max_vals = np.max(data, axis=0)\n",
    "    ranges = max_vals - min_vals\n",
    "    normalized_data = (data - min_vals) / ranges\n",
    "    return normalized_data, min_vals, ranges\n",
    "def generate_normalized_data(num_samples,vector):\n",
    "    u = np.random.uniform(0,1,(num_samples,vector))+np.random.normal(0, 0.05,(num_samples,vector))\n",
    "    x = 4*np.pi*u\n",
    "    y = np.sum(np.sin(x),axis=1).reshape(-1,1)+np.random.normal(0,0.5,(num_samples,1))\n",
    "    data = np.concatenate((x,y),axis=1)\n",
    "    normalized_data,_,_ = normalization(data) \n",
    "    return normalized_data"
   ]
  },
  {
   "cell_type": "code",
   "execution_count": 93,
   "id": "0b62208d",
   "metadata": {},
   "outputs": [
    {
     "name": "stdout",
     "output_type": "stream",
     "text": [
      "I1 0.4042814086380018 I2 0.45428526733705427\n",
      "the time for finding B*K the neighbours 66.59325790405273\n",
      "the time for calculating the distance 25.441046237945557\n",
      "the time for computing score 92.86803603172302\n",
      "finding neighbours/all 0.7170740412912897\n",
      "computing distance/all 0.273948360760586\n"
     ]
    }
   ],
   "source": [
    "data = generate_normalized_data(1000,2)\n",
    "score,B_time,D_time,s_time = calculate_score_restricted_1(data,0.7, 15,50,0.1, np.array([0]),np.array([1,2]))\n",
    "print('the time for finding B*K the neighbours',sum(B_time))\n",
    "print('the time for calculating the distance',sum(D_time))\n",
    "print('the time for computing score',sum(s_time))\n",
    "print('finding neighbours/all',sum(B_time)/sum(s_time))\n",
    "print('computing distance/all',sum(D_time)/sum(s_time))"
   ]
  },
  {
   "cell_type": "code",
   "execution_count": 69,
   "id": "16fcc1c1",
   "metadata": {},
   "outputs": [
    {
     "name": "stdout",
     "output_type": "stream",
     "text": [
      "I1 1.261366313071258 I2 1.366469912896041\n",
      "the time for finding B*K the neighbours 46.23117017745972\n",
      "the time for calculating the distance 0.39989447593688965\n",
      "the time for computing score 46.98595571517944\n",
      "finding neighbours/all 0.9839359330627411\n",
      "computing distance/all 0.008510936296815569\n"
     ]
    }
   ],
   "source": [
    "#sample size (3000,3),B=5,s=0.3,k=10\n",
    "data = generate_normalized_data(3000,2)\n",
    "score,B_time,D_time,s_time = calculate_score_restricted_1(data,0.3, 5, 10,0.1, np.array([0]),np.array([1,2]))\n",
    "print('the time for finding B*K the neighbours',sum(B_time))\n",
    "print('the time for calculating the distance',sum(D_time))\n",
    "print('the time for computing score',sum(s_time))\n",
    "print('finding neighbours/all',sum(B_time)/sum(s_time))\n",
    "print('computing distance/all',sum(D_time)/sum(s_time))"
   ]
  },
  {
   "cell_type": "code",
   "execution_count": 70,
   "id": "10423a85",
   "metadata": {},
   "outputs": [
    {
     "name": "stdout",
     "output_type": "stream",
     "text": [
      "I1 1.2060856799076407 I2 1.3474131471707522\n",
      "the time for finding B*K the neighbours 469.65077352523804\n",
      "the time for calculating the distance 111.79019212722778\n",
      "the time for computing score 584.7179358005524\n",
      "finding neighbours/all 0.8032091112139857\n",
      "computing distance/all 0.19118652820897816\n"
     ]
    }
   ],
   "source": [
    "#sample size (3000,3),B=15,s=0.7,k=60\n",
    "data = generate_normalized_data(3000,2)\n",
    "score,B_time,D_time,s_time = calculate_score_restricted_1(data,0.7, 15, 60,0.1, np.array([0]),np.array([1,2]))\n",
    "print('the time for finding B*K the neighbours',sum(B_time))\n",
    "print('the time for calculating the distance',sum(D_time))\n",
    "print('the time for computing score',sum(s_time))\n",
    "print('finding neighbours/all',sum(B_time)/sum(s_time))\n",
    "print('computing distance/all',sum(D_time)/sum(s_time))"
   ]
  },
  {
   "cell_type": "code",
   "execution_count": 71,
   "id": "45fc7079",
   "metadata": {},
   "outputs": [
    {
     "name": "stdout",
     "output_type": "stream",
     "text": [
      "I1 1.1077052537118843 I2 1.1067693922662944\n",
      "the time for finding B*K the neighbours 872.8903737068176\n",
      "the time for calculating the distance 111.93913698196411\n",
      "the time for computing score 988.1524515151978\n",
      "finding neighbours/all 0.8833559764673544\n",
      "computing distance/all 0.11328124198884558\n"
     ]
    }
   ],
   "source": [
    "#sample size (3000,7),B=15,s=0.7,k=60\n",
    "data = generate_normalized_data(3000,6)\n",
    "score,B_time,D_time,s_time = calculate_score_restricted_1(data,0.7, 15, 60,0.1, np.array([0]),np.array([1,2,3,4,5,6]))\n",
    "print('the time for finding B*K the neighbours',sum(B_time))\n",
    "print('the time for calculating the distance',sum(D_time))\n",
    "print('the time for computing score',sum(s_time))\n",
    "print('finding neighbours/all',sum(B_time)/sum(s_time))\n",
    "print('computing distance/all',sum(D_time)/sum(s_time))"
   ]
  },
  {
   "cell_type": "code",
   "execution_count": 72,
   "id": "d7371b54",
   "metadata": {},
   "outputs": [
    {
     "name": "stdout",
     "output_type": "stream",
     "text": [
      "I1 1.2432536035967532 I2 1.3718912845906912\n",
      "the time for finding B*K the neighbours 74.8816819190979\n",
      "the time for calculating the distance 1.9583923816680908\n",
      "the time for computing score 77.19596695899963\n",
      "finding neighbours/all 0.9700206483438325\n",
      "computing distance/all 0.025369102283649525\n"
     ]
    }
   ],
   "source": [
    "#sample size (3000,3),B=15,s=0.7,k=10\n",
    "data = generate_normalized_data(3000,2)\n",
    "score,B_time,D_time,s_time = calculate_score_restricted_1(data,0.7, 15,10,0.1, np.array([0]),np.array([1,2]))\n",
    "print('the time for finding B*K the neighbours',sum(B_time))\n",
    "print('the time for calculating the distance',sum(D_time))\n",
    "print('the time for computing score',sum(s_time))\n",
    "print('finding neighbours/all',sum(B_time)/sum(s_time))\n",
    "print('computing distance/all',sum(D_time)/sum(s_time))"
   ]
  },
  {
   "cell_type": "code",
   "execution_count": 73,
   "id": "39b5ed97",
   "metadata": {},
   "outputs": [
    {
     "name": "stdout",
     "output_type": "stream",
     "text": [
      "I1 1.1470215340342613 I2 1.3311181934268788\n",
      "the time for finding B*K the neighbours 206.8263885974884\n",
      "the time for calculating the distance 111.5419442653656\n",
      "the time for computing score 321.6292414665222\n",
      "finding neighbours/all 0.6430584099083434\n",
      "computing distance/all 0.3468028707737253\n"
     ]
    }
   ],
   "source": [
    "#sample size (3000,3), B=15,s=0.1,k=60\n",
    "data = generate_normalized_data(3000,2)\n",
    "score,B_time,D_time,s_time = calculate_score_restricted_1(data,0.1, 15,60,0.1, np.array([0]),np.array([1,2]))\n",
    "print('the time for finding B*K the neighbours',sum(B_time))\n",
    "print('the time for calculating the distance',sum(D_time))\n",
    "print('the time for computing score',sum(s_time))\n",
    "print('finding neighbours/all',sum(B_time)/sum(s_time))\n",
    "print('computing distance/all',sum(D_time)/sum(s_time))"
   ]
  },
  {
   "cell_type": "code",
   "execution_count": 74,
   "id": "fc826831",
   "metadata": {},
   "outputs": [
    {
     "name": "stdout",
     "output_type": "stream",
     "text": [
      "I1 1.3686607598897542 I2 1.383036812355105\n",
      "the time for finding B*K the neighbours 466.65701961517334\n",
      "the time for calculating the distance 9.311933279037476\n",
      "the time for computing score 477.1795103549957\n",
      "finding neighbours/all 0.9779485696441698\n",
      "computing distance/all 0.01951452876111529\n"
     ]
    }
   ],
   "source": [
    "#sample size (3000,3), B=5,s=0.7,k=60\n",
    "data = generate_normalized_data(3000,2)\n",
    "score,B_time,D_time,s_time = calculate_score_restricted_1(data,0.7, 5,60,0.1, np.array([0]),np.array([1,2]))\n",
    "print('the time for finding B*K the neighbours',sum(B_time))\n",
    "print('the time for calculating the distance',sum(D_time))\n",
    "print('the time for computing score',sum(s_time))\n",
    "print('finding neighbours/all',sum(B_time)/sum(s_time))\n",
    "print('computing distance/all',sum(D_time)/sum(s_time))"
   ]
  },
  {
   "cell_type": "code",
   "execution_count": 75,
   "id": "ee626a89",
   "metadata": {},
   "outputs": [
    {
     "name": "stdout",
     "output_type": "stream",
     "text": [
      "I1 2.0809129596461258 I2 1.3632182414887937\n",
      "the time for finding B*K the neighbours 972.2258670330048\n",
      "the time for calculating the distance 115.9160566329956\n",
      "the time for computing score 1091.4878783226013\n",
      "finding neighbours/all 0.8907344610433252\n",
      "computing distance/all 0.1062000402708415\n"
     ]
    }
   ],
   "source": [
    "#sample size (3000,10),B=15,s=0.7,k=60，缺失3维\n",
    "data = generate_normalized_data(3000,9)\n",
    "score,B_time,D_time,s_time = calculate_score_restricted_1(data,0.7, 15, 60,0.1, np.array([0,1,2]),np.array([3,4,5,6,7,8,9]))\n",
    "print('the time for finding B*K the neighbours',sum(B_time))\n",
    "print('the time for calculating the distance',sum(D_time))\n",
    "print('the time for computing score',sum(s_time))\n",
    "print('finding neighbours/all',sum(B_time)/sum(s_time))\n",
    "print('computing distance/all',sum(D_time)/sum(s_time))"
   ]
  },
  {
   "cell_type": "markdown",
   "id": "00342574",
   "metadata": {},
   "source": [
    "# Based on Distance"
   ]
  },
  {
   "cell_type": "code",
   "execution_count": 88,
   "id": "05de90d4",
   "metadata": {},
   "outputs": [],
   "source": [
    "import numpy as np\n",
    "import time\n",
    "from scipy.spatial.distance import cdist\n",
    "def calculate_distances(data, complete_mask):\n",
    "    \"\"\"Calculate pairwise distances for the given mask\"\"\"\n",
    "    # Select the dimensions according to the mask\n",
    "    selected_data = data[:, complete_mask]\n",
    "    # Calculate pairwise distances using Euclidean distance\n",
    "    distance_matrix = cdist(selected_data, selected_data, metric='euclidean')\n",
    "    return distance_matrix\n",
    "\n",
    "def k_nearest_neighbors(row_index, B, distance_matrix, s_ratio, k,data,miss_mask):\n",
    "    \"\"\"Find k nearest neighbors from s randomly selected samples\"\"\"\n",
    "    num_samples = distance_matrix.shape[0]\n",
    "    s = int(s_ratio*num_samples)\n",
    "    neighbors_data = np.zeros((B*k,len(miss_mask)))\n",
    "    \n",
    "    miss_mask_data = data[:,miss_mask]\n",
    "    # Exclude the current sample from the rest\n",
    "    rest_indices = list(range(num_samples))\n",
    "    rest_indices.remove(row_index)\n",
    "    st = time.time()\n",
    "    for b in range(B):\n",
    "\n",
    "        # Randomly select s samples from the rest\n",
    "        selected_indices = np.random.choice(rest_indices, s, replace=False)\n",
    "        \n",
    "        # Calculate the distances from the current sample to the selected samples\n",
    "        distances = distance_matrix[row_index, selected_indices]\n",
    "        \n",
    "        # Get the indices of the k nearest neighbors\n",
    "        k_nearest_indices = selected_indices[np.argsort(distances)[:k]]\n",
    "        neighbors_data[b * k: (b + 1) * k] =  miss_mask_data[k_nearest_indices]\n",
    "        \n",
    "    return neighbors_data,time.time()-st\n",
    "\n",
    "\n",
    "\n",
    "\n",
    "\n",
    "def calculate_I1_i(array,h):\n",
    "    distances = cdist(array,array, metric='euclidean')**2\n",
    "    sum_i =  np.sum(np.exp(-distances/(4*h**2)))\n",
    "    \n",
    "    return sum_i\n",
    "\n",
    "def gaussian_kernel(array,h,d):\n",
    "    d1 = (np.sum(array**2,axis=1)/(2*h**2))\n",
    "\n",
    "    kernel_values = (1 / (np.sqrt(2 * np.pi) * h))**d * np.exp(-d1)\n",
    "    return np.sum(kernel_values)  \n",
    "    \n",
    "def calculate_I2_i(array,zi,h,d):\n",
    "\n",
    "    inside = (zi-array).reshape(-1,d)\n",
    "\n",
    "    return gaussian_kernel(inside,h,d)\n",
    "\n",
    "\n",
    "def calculate_score_restricted(data, s_ratio, k, B,h, missing_mask, complete_mask):\n",
    "    n,d = data.shape\n",
    "    I1 = []\n",
    "    I2 = []\n",
    "    B_time = []\n",
    "    D_time=[]\n",
    "    st_1= time.time()\n",
    "    if n >= 3000:\n",
    "        st = time.time()\n",
    "        selected_indices = np.random.choice(range(n),3000,replace  =False)\n",
    "        data_selected = data[selected_indices]\n",
    "        distance_matrix = calculate_distances(data_selected, complete_mask)\n",
    "        d_time = time.time()-st\n",
    "        for i in range(3000):\n",
    "            X,b_time = k_nearest_neighbors(i, B, distance_matrix, s_ratio, k ,data_selected ,missing_mask)\n",
    "\n",
    "            B_time.append(b_time)\n",
    "            \n",
    "            I1_1 = calculate_I1_i(X,h)\n",
    "            I1_i = (1/(2*h*np.pi**0.5))**len(missing_mask)*(1/(3000*B**2*k**2))*I1_1\n",
    "            I2_i = (1/(B*k*3000))*calculate_I2_i(X,data[i,missing_mask],h,len(missing_mask))\n",
    "            I1.append(I1_i)\n",
    "            I2.append(I2_i)\n",
    "    else:\n",
    "        st = time.time()\n",
    "        distance_matrix = calculate_distances(data, complete_mask)\n",
    "        d_time = time.time()-st\n",
    "        for i in range(n):\n",
    "            start_time = time.time()\n",
    "            X,b_time = k_nearest_neighbors(i, B, distance_matrix, s_ratio, k , data ,missing_mask)\n",
    "            \n",
    "            B_time.append(b_time)\n",
    "            \n",
    "            I1_1 = calculate_I1_i(X,h)\n",
    "            I1_i = (1/(2*h*np.pi**0.5))**len(missing_mask)*(1/(3000*B**2*k**2))*I1_1\n",
    "            I2_i = (1/(B*k*3000))*calculate_I2_i(X,data[i,missing_mask],h,len(missing_mask))\n",
    "\n",
    "            I1.append(I1_i)\n",
    "            I2.append(I2_i)\n",
    "    print('I1',sum(I1),'I2',sum(I2))\n",
    "    return sum(I1)-2*sum(I2),B_time,d_time,time.time()-st_1"
   ]
  },
  {
   "cell_type": "code",
   "execution_count": 89,
   "id": "f494cb6d",
   "metadata": {},
   "outputs": [],
   "source": [
    "#generate data\n",
    "\n",
    "def normalization(data):\n",
    "    min_vals = np.min(data, axis=0)\n",
    "    max_vals = np.max(data, axis=0)\n",
    "    ranges = max_vals - min_vals\n",
    "    normalized_data = (data - min_vals) / ranges\n",
    "    return normalized_data, min_vals, ranges\n",
    "def generate_normalized_data(num_samples,vector):\n",
    "    u = np.random.uniform(0,1,(num_samples,vector))+np.random.normal(0, 0.05,(num_samples,vector))\n",
    "    x = 4*np.pi*u\n",
    "    y = np.sum(np.sin(x),axis=1).reshape(-1,1)+np.random.normal(0,0.5,(num_samples,1))\n",
    "    data = np.concatenate((x,y),axis=1)\n",
    "    normalized_data,_,_ = normalization(data) \n",
    "    return normalized_data"
   ]
  },
  {
   "cell_type": "code",
   "execution_count": 90,
   "id": "1bce8ea0",
   "metadata": {},
   "outputs": [
    {
     "name": "stdout",
     "output_type": "stream",
     "text": [
      "I1 0.39511689110507847 I2 0.44406495842066945\n",
      "the time for finding B*K the neighbours 12.15130090713501\n",
      "the time for calculating the distance 0.016994237899780273\n",
      "the time for computing score 39.713834285736084\n",
      "finding neighbours/all 0.3059714864021418\n",
      "computing distance/all 0.00042791732919840605\n"
     ]
    }
   ],
   "source": [
    "#sample size (1000,3),B=15,s=0.7,k=50\n",
    "data = generate_normalized_data(1000,2)\n",
    "score,B_time,s_time,all_time = calculate_score_restricted(data,0.7, 15,50,0.1, np.array([0]),np.array([1,2]))\n",
    "print('the time for finding B*K the neighbours',sum(B_time))\n",
    "print('the time for calculating the distance',s_time)\n",
    "print('the time for computing score',all_time)\n",
    "print('finding neighbours/all',sum(B_time)/all_time)\n",
    "print('computing distance/all',s_time/all_time)"
   ]
  },
  {
   "cell_type": "code",
   "execution_count": 86,
   "id": "b1ec0e44",
   "metadata": {},
   "outputs": [
    {
     "name": "stdout",
     "output_type": "stream",
     "text": [
      "I1 1.2395887974756143 I2 1.1079681090519935\n",
      "the time for finding B*K the neighbours 17.37077784538269\n",
      "the time for calculating the distance 0.1239631175994873\n",
      "the time for computing score 20.175918579101562\n",
      "finding neighbours/all 0.8609658974028341\n",
      "computing distance/all 0.006144112701162943\n"
     ]
    }
   ],
   "source": [
    "#sample size (3000,3),B=15,s=0.7,k=10\n",
    "data = generate_normalized_data(3000,2)\n",
    "score,B_time,s_time,all_time = calculate_score_restricted(data,0.7, 15,10,0.1, np.array([0]),np.array([1,2]))\n",
    "print('the time for finding B*K the neighbours',sum(B_time))\n",
    "print('the time for calculating the distance',s_time)\n",
    "print('the time for computing score',all_time)\n",
    "print('finding neighbours/all',sum(B_time)/all_time)\n",
    "print('computing distance/all',s_time/all_time)"
   ]
  },
  {
   "cell_type": "code",
   "execution_count": 62,
   "id": "fdcc961b",
   "metadata": {},
   "outputs": [
    {
     "name": "stdout",
     "output_type": "stream",
     "text": [
      "I1 1.2195266402716165 I2 1.1049552781934853\n",
      "the time for finding B*K the neighbours 107.02688431739807\n",
      "the time for calculating the distance 0.14595556259155273\n",
      "the time for computing score 224.65017366409302\n",
      "finding neighbours/all 0.476415764883536\n",
      "computing distance/all 0.0006497015346615846\n"
     ]
    }
   ],
   "source": [
    "#sample size (3000,3),B=15,s=0.7,k=60\n",
    "data = generate_normalized_data(3000,2)\n",
    "score,B_time,s_time,all_time = calculate_score_restricted(data,0.7, 15, 60,0.1, np.array([0]),np.array([1,2]))\n",
    "print('the time for finding B*K the neighbours',sum(B_time))\n",
    "print('the time for calculating the distance',s_time)\n",
    "print('the time for computing score',all_time)\n",
    "print('finding neighbours/all',sum(B_time)/all_time)\n",
    "print('computing distance/all',s_time/all_time)"
   ]
  },
  {
   "cell_type": "code",
   "execution_count": 63,
   "id": "4f827ced",
   "metadata": {},
   "outputs": [
    {
     "name": "stdout",
     "output_type": "stream",
     "text": [
      "I1 1.1397598439113528 I2 1.106654167683386\n",
      "the time for finding B*K the neighbours 105.58758282661438\n",
      "the time for calculating the distance 0.253920316696167\n",
      "the time for computing score 221.8547604084015\n",
      "finding neighbours/all 0.4759311120132983\n",
      "computing distance/all 0.0011445340015636249\n"
     ]
    }
   ],
   "source": [
    "#sample size (3000,7),B=15,s=0.7,k=60，缺失1维\n",
    "data = generate_normalized_data(3000,6)\n",
    "score,B_time,s_time,all_time = calculate_score_restricted(data,0.7, 15, 60,0.1, np.array([0]),np.array([1,2,3,4,5,6]))\n",
    "print('the time for finding B*K the neighbours',sum(B_time))\n",
    "print('the time for calculating the distance',s_time)\n",
    "print('the time for computing score',all_time)\n",
    "print('finding neighbours/all',sum(B_time)/all_time)\n",
    "print('computing distance/all',s_time/all_time)"
   ]
  },
  {
   "cell_type": "code",
   "execution_count": 64,
   "id": "90cfbdda",
   "metadata": {},
   "outputs": [
    {
     "name": "stdout",
     "output_type": "stream",
     "text": [
      "I1 2.1053218667792333 I2 1.307065542538779\n",
      "the time for finding B*K the neighbours 107.28389358520508\n",
      "the time for calculating the distance 0.21493244171142578\n",
      "the time for computing score 227.80931544303894\n",
      "finding neighbours/all 0.47093725459190083\n",
      "computing distance/all 0.0009434752099291002\n"
     ]
    }
   ],
   "source": [
    "#sample size (3000,7),B=15,s=0.7,k=60，缺失3维\n",
    "data = generate_normalized_data(3000,6)\n",
    "score,B_time,s_time,all_time = calculate_score_restricted(data,0.7, 15, 60,0.1, np.array([0,1,2]),np.array([3,4,5,6]))\n",
    "print('the time for finding B*K the neighbours',sum(B_time))\n",
    "print('the time for calculating the distance',s_time)\n",
    "print('the time for computing score',all_time)\n",
    "print('finding neighbours/all',sum(B_time)/all_time)\n",
    "print('computing distance/all',s_time/all_time)"
   ]
  },
  {
   "cell_type": "code",
   "execution_count": 65,
   "id": "13deda84",
   "metadata": {},
   "outputs": [
    {
     "name": "stdout",
     "output_type": "stream",
     "text": [
      "I1 2.5557729965707234 I2 1.3303886811740806\n",
      "the time for finding B*K the neighbours 54.217732429504395\n",
      "the time for calculating the distance 0.23792362213134766\n",
      "the time for computing score 65.49504947662354\n",
      "finding neighbours/all 0.8278142067646771\n",
      "computing distance/all 0.003632696272964375\n"
     ]
    }
   ],
   "source": [
    "#sample size (3000,10),B=15,s=0.7,k=60，缺失3维\n",
    "data = generate_normalized_data(3000,9)\n",
    "score,B_time,s_time,all_time = calculate_score_restricted(data,0.7, 10, 30,0.1, np.array([0,1,2]),np.array([3,4,5,6,7,8,9]))\n",
    "print('the time for finding B*K the neighbours',sum(B_time))\n",
    "print('the time for calculating the distance',s_time)\n",
    "print('the time for computing score',all_time)\n",
    "print('finding neighbours/all',sum(B_time)/all_time)\n",
    "print('computing distance/all',s_time/all_time)"
   ]
  },
  {
   "cell_type": "code",
   "execution_count": null,
   "id": "858feb48",
   "metadata": {},
   "outputs": [],
   "source": []
  }
 ],
 "metadata": {
  "kernelspec": {
   "display_name": "Python 3 (ipykernel)",
   "language": "python",
   "name": "python3"
  },
  "language_info": {
   "codemirror_mode": {
    "name": "ipython",
    "version": 3
   },
   "file_extension": ".py",
   "mimetype": "text/x-python",
   "name": "python",
   "nbconvert_exporter": "python",
   "pygments_lexer": "ipython3",
   "version": "3.9.7"
  }
 },
 "nbformat": 4,
 "nbformat_minor": 5
}
