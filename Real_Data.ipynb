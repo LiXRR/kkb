{
 "cells": [
  {
   "cell_type": "code",
   "execution_count": 1,
   "id": "c566cd32",
   "metadata": {
    "ExecuteTime": {
     "end_time": "2024-03-08T05:39:40.275379Z",
     "start_time": "2024-03-08T05:39:38.220724Z"
    },
    "executionInfo": {
     "elapsed": 560,
     "status": "ok",
     "timestamp": 1709795805041,
     "user": {
      "displayName": "Xingrui Li",
      "userId": "05227951062871927719"
     },
     "user_tz": -480
    },
    "id": "c566cd32"
   },
   "outputs": [],
   "source": [
    "from KNN_KDE_Bagging_Imputer import KKBImputer\n",
    "import matplotlib.pyplot as plt\n",
    "from utils import select_param_rmse_b,knnxkde_param_rmse\n",
    "from utils import introduce_miss\n",
    "from utils import normalization,renormalization\n",
    "import numpy as np\n",
    "import pandas as pd\n",
    "from sklearn.neighbors import KNeighborsRegressor\n",
    "from sklearn.metrics import mean_squared_error\n",
    "from knnxkde import KNNxKDE\n",
    "from sklearn.model_selection import GridSearchCV, KFold\n",
    "import time"
   ]
  },
  {
   "cell_type": "markdown",
   "id": "bc844813",
   "metadata": {
    "id": "bc844813"
   },
   "source": [
    "# Abalone"
   ]
  },
  {
   "cell_type": "code",
   "execution_count": 2,
   "id": "0968212a",
   "metadata": {
    "ExecuteTime": {
     "end_time": "2024-03-08T05:39:40.621755Z",
     "start_time": "2024-03-08T05:39:40.544337Z"
    },
    "executionInfo": {
     "elapsed": 579,
     "status": "ok",
     "timestamp": 1709788614252,
     "user": {
      "displayName": "Xingrui Li",
      "userId": "05227951062871927719"
     },
     "user_tz": -480
    },
    "id": "0968212a"
   },
   "outputs": [],
   "source": [
    "np.random.seed(42)\n",
    "df = pd.read_csv('abalone.csv',header = None)\n",
    "ab_origin = df.values\n",
    "ab_test = ab_origin[-400:].copy()#400 条测试集，3777条训练集，2266条完整数据，1511缺失数据\n",
    "ab_com,ab_miss = introduce_miss(ab_origin[:-400],0.6)\n",
    "ab_train = np.vstack((ab_com,ab_miss))"
   ]
  },
  {
   "cell_type": "code",
   "execution_count": 3,
   "id": "87e93c41",
   "metadata": {
    "ExecuteTime": {
     "end_time": "2024-03-08T05:39:40.950229Z",
     "start_time": "2024-03-08T05:39:40.938239Z"
    },
    "executionInfo": {
     "elapsed": 518,
     "status": "ok",
     "timestamp": 1709788616623,
     "user": {
      "displayName": "Xingrui Li",
      "userId": "05227951062871927719"
     },
     "user_tz": -480
    },
    "id": "87e93c41"
   },
   "outputs": [],
   "source": [
    "norm_miss_data,norm_params = normalization(ab_train)\n",
    "norm_test_data,_ = normalization(ab_test,parameters=norm_params)"
   ]
  },
  {
   "cell_type": "code",
   "execution_count": 6,
   "id": "9f8dc7be",
   "metadata": {
    "ExecuteTime": {
     "end_time": "2024-03-08T05:37:25.542685Z",
     "start_time": "2024-03-08T04:44:31.901924Z"
    },
    "colab": {
     "base_uri": "https://localhost:8080/"
    },
    "executionInfo": {
     "elapsed": 195762,
     "status": "ok",
     "timestamp": 1709795470188,
     "user": {
      "displayName": "Xingrui Li",
      "userId": "05227951062871927719"
     },
     "user_tz": -480
    },
    "id": "9f8dc7be",
    "outputId": "5a204b6c-a581-4f26-c2d4-c94bd55ff8f5"
   },
   "outputs": [
    {
     "name": "stdout",
     "output_type": "stream",
     "text": [
      "B: 5 => B: 10 => B: 15 => {'B': 5, 's': 0.6, 'k': 0.001, 'h': 0.001, 'K': 0.003} 0.03301387712623689\n"
     ]
    },
    {
     "data": {
      "text/plain": [
       "({'B': 5, 's': 0.6, 'k': 0.001, 'h': 0.001, 'K': 0.003}, 0.03301387712623689)"
      ]
     },
     "execution_count": 6,
     "metadata": {},
     "output_type": "execute_result"
    }
   ],
   "source": [
    "np.random.seed(42)\n",
    "select_param_rmse_b(norm_miss_data[:2266],norm_miss_data[2266:],\n",
    "                    [5,10,15],#B\n",
    "                    [0.6,0.7,0.8,0.85,0.9],#s\n",
    "                    [0.001,0.005,0.01,0.05,0.1],#k\n",
    "                   [0.0005,0.001,0.003,0.005,0.01],#h\n",
    "                    [0.003])"
   ]
  },
  {
   "cell_type": "code",
   "execution_count": 4,
   "id": "e799d9c9",
   "metadata": {
    "ExecuteTime": {
     "end_time": "2024-03-08T05:40:07.232307Z",
     "start_time": "2024-03-08T05:39:43.328505Z"
    },
    "colab": {
     "base_uri": "https://localhost:8080/"
    },
    "executionInfo": {
     "elapsed": 28854,
     "status": "ok",
     "timestamp": 1709796079519,
     "user": {
      "displayName": "Xingrui Li",
      "userId": "05227951062871927719"
     },
     "user_tz": -480
    },
    "id": "e799d9c9",
    "outputId": "fcff0657-3c74-434d-9f5a-6b19d93dae37"
   },
   "outputs": [
    {
     "name": "stdout",
     "output_type": "stream",
     "text": [
      "the average rmse using knn_kde_bagging for normalized data is  0.039687338926994144\n",
      "Imputing and Training took average 1.19 seconds\n"
     ]
    }
   ],
   "source": [
    "np.random.seed(42)\n",
    "result = []\n",
    "training_duration = []\n",
    "for i in range(20):\n",
    "    start_time = time.time()\n",
    "    imputer = KKBImputer(B=5, s_ratio=0.6, n_neighbors_ratio=0.001, h=0.001)\n",
    "    imp_data_f= imputer.impute_pattern(norm_miss_data)\n",
    "    best_k = int(round(imp_data_f.shape[0]*0.003))\n",
    "    knn_regressor = KNeighborsRegressor(n_neighbors=best_k)\n",
    "    knn_regressor.fit(imp_data_f[:,:-1],imp_data_f[:,-1])\n",
    "    end_time = time.time()\n",
    "    training_duration.append(end_time - start_time)\n",
    "    y_pred = knn_regressor.predict(norm_test_data[:,:-1])\n",
    "    result.append(np.sqrt(mean_squared_error(norm_test_data[:,-1], y_pred)))\n",
    "print('the average rmse using knn_kde_bagging for normalized data is ',sum(result)/len(result))\n",
    "print(\"Imputing and Training took average {:.2f} seconds\".format(sum(training_duration)/len(training_duration)))"
   ]
  },
  {
   "cell_type": "code",
   "execution_count": 8,
   "id": "d251f094",
   "metadata": {
    "ExecuteTime": {
     "end_time": "2024-03-08T04:40:40.988203Z",
     "start_time": "2024-03-08T04:32:18.933401Z"
    },
    "colab": {
     "base_uri": "https://localhost:8080/"
    },
    "executionInfo": {
     "elapsed": 278264,
     "status": "ok",
     "timestamp": 1709797378854,
     "user": {
      "displayName": "Xingrui Li",
      "userId": "05227951062871927719"
     },
     "user_tz": -480
    },
    "id": "d251f094",
    "outputId": "966bfdfd-cf82-48cd-e988-de6f6dcdf5a2"
   },
   "outputs": [
    {
     "name": "stdout",
     "output_type": "stream",
     "text": [
      "tau: 10.0 => tau: 50.0 => tau: 100.0 => tau: 250.0 => tau: 500.0 => tau: 800.0 => tau: 1000.0 => tau: 1100.0 => "
     ]
    },
    {
     "data": {
      "text/plain": [
       "({'tau': 1100.0, 'h': 0.0005, 'K': 0.003}, 0.032920182716144386)"
      ]
     },
     "execution_count": 8,
     "metadata": {},
     "output_type": "execute_result"
    }
   ],
   "source": [
    "np.random.seed(42)\n",
    "knnxkde_param_rmse(norm_miss_data[:2266],norm_miss_data[2266:],\n",
    "                   [10.0,50.0,100.0,250.0,500.0,800.0, 1000.0,1100.0],\n",
    "                   [0.0005,0.001,0.005,0.01,0.03],\n",
    "                   [0.001,0.003,0.009,0.012])"
   ]
  },
  {
   "cell_type": "code",
   "execution_count": 5,
   "id": "702570b1",
   "metadata": {
    "ExecuteTime": {
     "end_time": "2024-03-08T05:40:42.807331Z",
     "start_time": "2024-03-08T05:40:25.253597Z"
    },
    "colab": {
     "base_uri": "https://localhost:8080/"
    },
    "executionInfo": {
     "elapsed": 18610,
     "status": "ok",
     "timestamp": 1709797451166,
     "user": {
      "displayName": "Xingrui Li",
      "userId": "05227951062871927719"
     },
     "user_tz": -480
    },
    "id": "702570b1",
    "outputId": "028032ca-41da-4cb1-e68b-6b22ff80d3a5"
   },
   "outputs": [
    {
     "name": "stdout",
     "output_type": "stream",
     "text": [
      "average rmse using knn_kde for normalized data is 0.0402024961041964\n",
      "Imputinga and Training took average 0.87 seconds\n"
     ]
    }
   ],
   "source": [
    "np.random.seed(42)\n",
    "rmse = []\n",
    "training_duration = []\n",
    "for i in range(20):\n",
    "    start_time = time.time()\n",
    "    m_data = norm_miss_data.copy()\n",
    "    knnxkde = KNNxKDE(h=0.0005, tau=1.0/1100.0, metric='nan_std_eucl')\n",
    "    imputed_samples = knnxkde.impute_samples(norm_miss_data, nb_draws=1)\n",
    "\n",
    "    for (row, col), value in imputed_samples.items():\n",
    "        m_data[row, col] = value[0]\n",
    "    best_k = int(round(m_data.shape[0]*0.003))\n",
    "    knn_regressor = KNeighborsRegressor(n_neighbors=best_k)\n",
    "    knn_regressor.fit(m_data[:,:-1],m_data[:,-1])\n",
    "    end_time = time.time()\n",
    "    training_duration.append(end_time - start_time)\n",
    "    y_pred = knn_regressor.predict(norm_test_data[:,:-1])\n",
    "    rmse.append(np.sqrt(mean_squared_error(norm_test_data[:,-1], y_pred)))\n",
    "print('average rmse using knn_kde for normalized data is',sum(rmse)/len(rmse))\n",
    "print(\"Imputinga and Training took average {:.2f} seconds\".format(sum(training_duration)/len(training_duration)))"
   ]
  },
  {
   "cell_type": "code",
   "execution_count": 6,
   "id": "b70b1683",
   "metadata": {
    "ExecuteTime": {
     "end_time": "2024-03-08T05:40:49.372394Z",
     "start_time": "2024-03-08T05:40:48.683291Z"
    },
    "id": "b70b1683",
    "outputId": "67a43172-0510-4fa9-824d-6a1b2f26f3a4"
   },
   "outputs": [
    {
     "name": "stdout",
     "output_type": "stream",
     "text": [
      "Best k: 5, Best Mean Squared Error: 0.0010979228352917276\n"
     ]
    }
   ],
   "source": [
    "knn_regressor = KNeighborsRegressor()\n",
    "param_grid = {'n_neighbors': np.arange(1, 25)}\n",
    "kf = KFold(n_splits=5, shuffle=True, random_state=42)\n",
    "grid_search = GridSearchCV(knn_regressor, param_grid, cv=kf, scoring='neg_mean_squared_error')\n",
    "grid_search.fit(norm_miss_data[:2266,:-1],norm_miss_data[:2266,-1])\n",
    "best_k = grid_search.best_params_['n_neighbors']\n",
    "best_score = -grid_search.best_score_\n",
    "print(f'Best k: {best_k}, Best Mean Squared Error: {best_score}')\n",
    "best_model = grid_search.best_estimator_"
   ]
  },
  {
   "cell_type": "code",
   "execution_count": 7,
   "id": "e0e115b2",
   "metadata": {
    "ExecuteTime": {
     "end_time": "2024-03-08T05:40:53.853966Z",
     "start_time": "2024-03-08T05:40:53.789703Z"
    },
    "id": "e0e115b2",
    "outputId": "efff2934-e586-4951-d7c6-4b83b55e8d0f"
   },
   "outputs": [
    {
     "name": "stdout",
     "output_type": "stream",
     "text": [
      "rmse without any imputation for normalized data 0.04084028699751879\n"
     ]
    }
   ],
   "source": [
    "best_k = 5 # Replace with the best k value from your grid search\n",
    "knn_regressor = KNeighborsRegressor(n_neighbors=best_k)\n",
    "\n",
    "# Train the model on the training data\n",
    "knn_regressor.fit(norm_miss_data[:2266,:-1],norm_miss_data[:2266,-1])\n",
    "\n",
    "# Make predictions on the new data\n",
    "y_pred = knn_regressor.predict(norm_test_data[:,:-1])\n",
    "print('rmse without any imputation for normalized data',np.sqrt(mean_squared_error(norm_test_data[:,-1], y_pred)))"
   ]
  },
  {
   "cell_type": "code",
   "execution_count": null,
   "id": "9ab1c968",
   "metadata": {},
   "outputs": [],
   "source": []
  },
  {
   "cell_type": "code",
   "execution_count": null,
   "id": "cfe85055",
   "metadata": {},
   "outputs": [],
   "source": []
  }
 ],
 "metadata": {
  "colab": {
   "gpuType": "T4",
   "provenance": []
  },
  "kernelspec": {
   "display_name": "Python 3",
   "language": "python",
   "name": "python3"
  },
  "language_info": {
   "codemirror_mode": {
    "name": "ipython",
    "version": 3
   },
   "file_extension": ".py",
   "mimetype": "text/x-python",
   "name": "python",
   "nbconvert_exporter": "python",
   "pygments_lexer": "ipython3",
   "version": "3.8.8"
  },
  "nbTranslate": {
   "displayLangs": [
    "*"
   ],
   "hotkey": "alt-t",
   "langInMainMenu": true,
   "sourceLang": "en",
   "targetLang": "fr",
   "useGoogleTranslate": true
  },
  "toc": {
   "base_numbering": 1,
   "nav_menu": {},
   "number_sections": true,
   "sideBar": true,
   "skip_h1_title": false,
   "title_cell": "Table of Contents",
   "title_sidebar": "Contents",
   "toc_cell": false,
   "toc_position": {},
   "toc_section_display": true,
   "toc_window_display": false
  },
  "varInspector": {
   "cols": {
    "lenName": 16,
    "lenType": 16,
    "lenVar": 40
   },
   "kernels_config": {
    "python": {
     "delete_cmd_postfix": "",
     "delete_cmd_prefix": "del ",
     "library": "var_list.py",
     "varRefreshCmd": "print(var_dic_list())"
    },
    "r": {
     "delete_cmd_postfix": ") ",
     "delete_cmd_prefix": "rm(",
     "library": "var_list.r",
     "varRefreshCmd": "cat(var_dic_list()) "
    }
   },
   "types_to_exclude": [
    "module",
    "function",
    "builtin_function_or_method",
    "instance",
    "_Feature"
   ],
   "window_display": false
  }
 },
 "nbformat": 4,
 "nbformat_minor": 5
}
